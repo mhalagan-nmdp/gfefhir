{
 "cells": [
  {
   "cell_type": "code",
   "execution_count": 22,
   "metadata": {},
   "outputs": [],
   "source": [
    "import fhirclient.models.observation as o\n",
    "from gfefhir import GfeFHIR\n",
    "from fhirclient import client\n",
    "import json"
   ]
  },
  {
   "cell_type": "code",
   "execution_count": 3,
   "metadata": {},
   "outputs": [],
   "source": [
    "# Initalize\n",
    "settings = {\n",
    "    'app_id': 'my_web_app',\n",
    "    'api_base': 'http://fhirtest.b12x.org/r3'\n",
    "}\n",
    "smart = client.FHIRClient(settings=settings)\n",
    "gfefhir = GfeFHIR(smart=smart)"
   ]
  },
  {
   "cell_type": "code",
   "execution_count": 4,
   "metadata": {},
   "outputs": [],
   "source": [
    "# Create new Resource observation with GFE\n",
    "gfe_obs = gfefhir.annotate('6289')"
   ]
  },
  {
   "cell_type": "code",
   "execution_count": 8,
   "metadata": {},
   "outputs": [
    {
     "name": "stdout",
     "output_type": "stream",
     "text": [
      "{\n",
      "    \"code\": {\n",
      "        \"coding\": [\n",
      "            {\n",
      "                \"code\": \"57290-9\",\n",
      "                \"display\": \"HLA-A [Type] by High resolution\",\n",
      "                \"system\": \"http://loinc.org\"\n",
      "            }\n",
      "        ]\n",
      "    },\n",
      "    \"related\": [\n",
      "        {\n",
      "            \"target\": {\n",
      "                \"display\": \"HLA-A*01:01:01:01, exon 2\",\n",
      "                \"reference\": \"Sequence/6277\"\n",
      "            },\n",
      "            \"type\": \"derived-from\"\n",
      "        },\n",
      "        {\n",
      "            \"target\": {\n",
      "                \"display\": \"HLA-A*01:01:01:01, exon 3\",\n",
      "                \"reference\": \"Sequence/6278\"\n",
      "            },\n",
      "            \"type\": \"derived-from\"\n",
      "        }\n",
      "    ],\n",
      "    \"specimen\": {\n",
      "        \"display\": \"buccal swab from John Storm\",\n",
      "        \"reference\": \"Specimen/6273\"\n",
      "    },\n",
      "    \"status\": \"final\",\n",
      "    \"subject\": {\n",
      "        \"display\": \"John Storm\",\n",
      "        \"reference\": \"Patient/6272\"\n",
      "    },\n",
      "    \"valueCodeableConcept\": {\n",
      "        \"coding\": [\n",
      "            {\n",
      "                \"code\": \"261063000\",\n",
      "                \"system\": \"http://act.b12x.org\",\n",
      "                \"version\": \"0.0.5\"\n",
      "            }\n",
      "        ],\n",
      "        \"text\": \"HLA-Aw0-0-0-1-0-1-0-0-0-0-0-0-0-0-0-0-0\"\n",
      "    },\n",
      "    \"resourceType\": \"Observation\"\n",
      "}\n"
     ]
    }
   ],
   "source": [
    "# Print out observation\n",
    "print(json.dumps(gfe_obs.as_json(), indent=4))"
   ]
  },
  {
   "cell_type": "code",
   "execution_count": 20,
   "metadata": {},
   "outputs": [],
   "source": [
    "# Create observation\n",
    "response = gfe_obs.create(smart.server)"
   ]
  },
  {
   "cell_type": "code",
   "execution_count": 23,
   "metadata": {},
   "outputs": [
    {
     "name": "stdout",
     "output_type": "stream",
     "text": [
      "{\n",
      "    \"id\": \"6302\",\n",
      "    \"meta\": {\n",
      "        \"lastUpdated\": \"2018-07-24T22:26:16.496+00:00\",\n",
      "        \"versionId\": \"1\"\n",
      "    },\n",
      "    \"code\": {\n",
      "        \"coding\": [\n",
      "            {\n",
      "                \"code\": \"57290-9\",\n",
      "                \"display\": \"HLA-A [Type] by High resolution\",\n",
      "                \"system\": \"http://loinc.org\"\n",
      "            }\n",
      "        ]\n",
      "    },\n",
      "    \"related\": [\n",
      "        {\n",
      "            \"target\": {\n",
      "                \"display\": \"HLA-A*01:01:01:01, exon 2\",\n",
      "                \"reference\": \"Sequence/6277\"\n",
      "            },\n",
      "            \"type\": \"derived-from\"\n",
      "        },\n",
      "        {\n",
      "            \"target\": {\n",
      "                \"display\": \"HLA-A*01:01:01:01, exon 3\",\n",
      "                \"reference\": \"Sequence/6278\"\n",
      "            },\n",
      "            \"type\": \"derived-from\"\n",
      "        }\n",
      "    ],\n",
      "    \"specimen\": {\n",
      "        \"display\": \"buccal swab from John Storm\",\n",
      "        \"reference\": \"Specimen/6273\"\n",
      "    },\n",
      "    \"status\": \"final\",\n",
      "    \"subject\": {\n",
      "        \"display\": \"John Storm\",\n",
      "        \"reference\": \"Patient/6272\"\n",
      "    },\n",
      "    \"valueCodeableConcept\": {\n",
      "        \"coding\": [\n",
      "            {\n",
      "                \"code\": \"261063000\",\n",
      "                \"system\": \"http://act.b12x.org\",\n",
      "                \"version\": \"0.0.5\"\n",
      "            }\n",
      "        ],\n",
      "        \"text\": \"HLA-Aw0-0-0-1-0-1-0-0-0-0-0-0-0-0-0-0-0\"\n",
      "    },\n",
      "    \"resourceType\": \"Observation\"\n",
      "}\n"
     ]
    }
   ],
   "source": [
    "# read GFE observatio\n",
    "obs = o.Observation.read('6302', smart.server)\n",
    "print(json.dumps(obs.as_json(), indent=4))"
   ]
  },
  {
   "cell_type": "code",
   "execution_count": null,
   "metadata": {},
   "outputs": [],
   "source": []
  }
 ],
 "metadata": {
  "kernelspec": {
   "display_name": "Python 3",
   "language": "python",
   "name": "python3"
  },
  "language_info": {
   "codemirror_mode": {
    "name": "ipython",
    "version": 3
   },
   "file_extension": ".py",
   "mimetype": "text/x-python",
   "name": "python",
   "nbconvert_exporter": "python",
   "pygments_lexer": "ipython3",
   "version": "3.6.4"
  }
 },
 "nbformat": 4,
 "nbformat_minor": 2
}
